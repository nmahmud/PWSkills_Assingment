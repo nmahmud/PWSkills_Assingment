{
 "cells": [
  {
   "cell_type": "markdown",
   "id": "b9dadf89-e5d5-4664-9540-2451944f1571",
   "metadata": {},
   "source": [
    "TOPIC: Python Basics Variable\n",
    "1. Declare two variables, `x` and `y`, and assign them integer values. Swap the\n",
    "values of these variables without using any temporary variable.\n",
    "2. Create a program that calculates the area of a rectangle. Take the length and width as inputs from the user and store them in variables. Calculate and\n",
    "display the area.\n",
    "3. Write a Python program that converts temperatures from Celsius to\n",
    "Fahrenheit. Take the temperature in Celsius as input, store it in a variable,\n",
    "convert it to Fahrenheit, and display the result."
   ]
  },
  {
   "cell_type": "markdown",
   "id": "d63b014a-3d28-48e2-9a4b-0879c1f5c5e6",
   "metadata": {},
   "source": [
    "1. Declare two variables, `x` and `y`, and assign them integer values. Swap the\n",
    "values of these variables without using any temporary variable."
   ]
  },
  {
   "cell_type": "code",
   "execution_count": 5,
   "id": "27f49495-0896-4d5c-876c-cdaf47ac86ac",
   "metadata": {},
   "outputs": [
    {
     "name": "stdout",
     "output_type": "stream",
     "text": [
      "5 4\n"
     ]
    }
   ],
   "source": [
    "x = int(4)\n",
    "y = int(5)\n",
    "x,y = y,x\n",
    "print(x,y)"
   ]
  },
  {
   "cell_type": "markdown",
   "id": "ca9d4866-361a-4974-84c5-9b91f8b48f61",
   "metadata": {},
   "source": [
    "2. Create a program that calculates the area of a rectangle. Take the length and width as inputs from the user and store them in variables. Calculate and display the area."
   ]
  },
  {
   "cell_type": "code",
   "execution_count": 33,
   "id": "9884692d-88c6-4276-848f-72c8eb84a9ef",
   "metadata": {},
   "outputs": [
    {
     "name": "stdin",
     "output_type": "stream",
     "text": [
      "Enter the Length:  2\n",
      "Enter the Width:  3\n"
     ]
    },
    {
     "name": "stdout",
     "output_type": "stream",
     "text": [
      "Area = 6\n"
     ]
    }
   ],
   "source": [
    "l = int(input(\"Enter the Length: \"))\n",
    "w = int(input(\"Enter the Width: \"))\n",
    "Area = l*w\n",
    "print(f\"Area = {Area}\")"
   ]
  },
  {
   "cell_type": "markdown",
   "id": "fa793348-4d72-4155-b668-29c41d76736a",
   "metadata": {},
   "source": [
    "3. Write a Python program that converts temperatures from Celsius to\n",
    "Fahrenheit. Take the temperature in Celsius as input, store it in a variable,\n",
    "convert it to Fahrenheit, and display the result."
   ]
  },
  {
   "cell_type": "code",
   "execution_count": 34,
   "id": "5a0b4937-f5f4-4c30-883a-a1eeff189107",
   "metadata": {},
   "outputs": [
    {
     "name": "stdin",
     "output_type": "stream",
     "text": [
      "Enter the temperature in Celsius:  32\n"
     ]
    },
    {
     "name": "stdout",
     "output_type": "stream",
     "text": [
      "32°C is equivalent to 89.6°F\n"
     ]
    }
   ],
   "source": [
    "\n",
    "C = int(input(\"Enter the temperature in Celsius: \")) \n",
    "Cel_to_Feh = C * (9/5) + 32\n",
    "print(f\"{C}°C is equivalent to {Cel_to_Feh}°F\")"
   ]
  },
  {
   "cell_type": "markdown",
   "id": "c8a0215a-2fd6-4039-9656-a038b72aa8ec",
   "metadata": {},
   "source": [
    "String Based Questions\n",
    "\n",
    "1. Write a Python program that takes a string as input and prints the length of\n",
    "the string."
   ]
  },
  {
   "cell_type": "code",
   "execution_count": 35,
   "id": "687fb5ac-2e54-41eb-9977-ee6c605d4c7c",
   "metadata": {},
   "outputs": [
    {
     "name": "stdin",
     "output_type": "stream",
     "text": [
      "Enter the string:  apple\n"
     ]
    },
    {
     "name": "stdout",
     "output_type": "stream",
     "text": [
      "5\n"
     ]
    }
   ],
   "source": [
    "s = str(input(\"Enter the string: \"))\n",
    "print(len(s))"
   ]
  },
  {
   "cell_type": "markdown",
   "id": "5359cb9e-a328-4ff4-9053-8809b4e0f3f7",
   "metadata": {},
   "source": [
    "2. Create a program that takes a sentence from the user and counts the number\n",
    "of vowels (a, e, i, o, u) in the string."
   ]
  },
  {
   "cell_type": "code",
   "execution_count": 36,
   "id": "fbb99460-a0bc-4bec-9f68-9ad18d70d0ed",
   "metadata": {},
   "outputs": [
    {
     "name": "stdin",
     "output_type": "stream",
     "text": [
      "Enter a sentence:  How are you?\n"
     ]
    },
    {
     "name": "stdout",
     "output_type": "stream",
     "text": [
      "The sentence has 5 vowels.\n"
     ]
    }
   ],
   "source": [
    "def count_vowels(sen):\n",
    "    vowels = 'aeiouAEIOU'\n",
    "    count = 0\n",
    "    for char in sen:\n",
    "        if char in vowels:\n",
    "            count += 1\n",
    "    return count\n",
    "\n",
    "# Get input from the user\n",
    "sen = input(\"Enter a sentence: \")\n",
    "vowel_count = count_vowels(sen)\n",
    "\n",
    "# Print the result\n",
    "print(f\"The sentence has {vowel_count} vowels.\")"
   ]
  },
  {
   "cell_type": "markdown",
   "id": "4a5ac725-966b-41cd-a763-d44581ab3a79",
   "metadata": {},
   "source": [
    "3. Given a string, reverse the order of characters using string slicing and print\n",
    "the reversed string."
   ]
  },
  {
   "cell_type": "code",
   "execution_count": 4,
   "id": "346add8f-2dd0-422d-833b-919c9944567c",
   "metadata": {},
   "outputs": [
    {
     "name": "stdin",
     "output_type": "stream",
     "text": [
      "Enter a string:  how are you/\n"
     ]
    },
    {
     "name": "stdout",
     "output_type": "stream",
     "text": [
      "Reversed string: /uoy era woh\n"
     ]
    }
   ],
   "source": [
    "# Get input from the user\n",
    "s1 = input(\"Enter a string: \")\n",
    "\n",
    "# Reverse the string using slicing\n",
    "rev_s1 = s1[::-1]\n",
    "\n",
    "# Print the reversed string\n",
    "print(f\"Reversed string: {rev_s1}\")"
   ]
  },
  {
   "cell_type": "markdown",
   "id": "93770a56-8bcd-4637-884d-009c2f77b60b",
   "metadata": {},
   "source": [
    "4. Write a program that takes a string as input and checks if it is a palindrome\n",
    "(reads the same forwards and backwards)."
   ]
  },
  {
   "cell_type": "code",
   "execution_count": 13,
   "id": "542725f4-877b-4f8d-8c9f-388400647080",
   "metadata": {},
   "outputs": [
    {
     "name": "stdin",
     "output_type": "stream",
     "text": [
      "Enter a string:  wow\n"
     ]
    },
    {
     "name": "stdout",
     "output_type": "stream",
     "text": [
      "'wow' is a palindrome.\n"
     ]
    }
   ],
   "source": [
    "def is_palindrome(s):\n",
    "    # Clean and normalize the string: remove spaces, convert to lowercase\n",
    "    cleaned_string = ''.join(s.split()).lower()\n",
    "    \n",
    "    # Check if the cleaned string reads the same forwards and backwards\n",
    "    return cleaned_string == cleaned_string[::-1]\n",
    "\n",
    "# Get input from the user\n",
    "string = input(\"Enter a string: \")\n",
    "\n",
    "# Check if the string is a palindrome\n",
    "if is_palindrome(string):\n",
    "    print(f\"'{string}' is a palindrome.\")\n",
    "else:\n",
    "    print(f\"'{string}' is not a palindrome.\")"
   ]
  },
  {
   "cell_type": "markdown",
   "id": "aee68d4b-1db3-4722-a167-83b8e88e2712",
   "metadata": {},
   "source": [
    "5. Create a program that takes a string as input and removes all the spaces from\n",
    "it. Print the modified string without spaces."
   ]
  },
  {
   "cell_type": "code",
   "execution_count": 11,
   "id": "8b898c73-a1e0-42dd-b6e2-146dbc5c5345",
   "metadata": {},
   "outputs": [
    {
     "name": "stdin",
     "output_type": "stream",
     "text": [
      "Enter your string:  have a good day.\n"
     ]
    },
    {
     "name": "stdout",
     "output_type": "stream",
     "text": [
      "haveagoodday.\n"
     ]
    }
   ],
   "source": [
    "string = input(\"Enter your string: \")\n",
    "cleaned_string = ''.join(string.split()).lower()\n",
    "print(cleaned_string)"
   ]
  },
  {
   "cell_type": "code",
   "execution_count": null,
   "id": "c51c680e-99fa-4543-b921-6cbc04d71671",
   "metadata": {},
   "outputs": [],
   "source": []
  }
 ],
 "metadata": {
  "kernelspec": {
   "display_name": "Python 3 (ipykernel)",
   "language": "python",
   "name": "python3"
  },
  "language_info": {
   "codemirror_mode": {
    "name": "ipython",
    "version": 3
   },
   "file_extension": ".py",
   "mimetype": "text/x-python",
   "name": "python",
   "nbconvert_exporter": "python",
   "pygments_lexer": "ipython3",
   "version": "3.10.8"
  }
 },
 "nbformat": 4,
 "nbformat_minor": 5
}
